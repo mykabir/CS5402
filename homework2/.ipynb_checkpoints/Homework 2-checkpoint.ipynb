{
 "cells": [
  {
   "cell_type": "markdown",
   "metadata": {},
   "source": [
    "<h1 align=\"center\">  Homework: 2 </h1>\n",
    "<h2 align=\"center\"> CS 5402 </h2>\n",
    "<h3 align=\"center\"> By: Md Yasin Kabir, email: mkdv6@mst.edu </h3>\n"
   ]
  },
  {
   "cell_type": "code",
   "execution_count": 1,
   "metadata": {},
   "outputs": [],
   "source": [
    "import pandas as pd\n",
    "import numpy as np\n",
    "from sklearn import preprocessing\n",
    "import sklearn.metrics as metrics\n",
    "from sklearn.metrics import classification_report"
   ]
  },
  {
   "cell_type": "code",
   "execution_count": 2,
   "metadata": {},
   "outputs": [],
   "source": [
    "# Defining module for calculating entropy\n",
    "def entropy(features):\n",
    "    labels, counts = np.unique(features, return_counts=True)\n",
    "#     print(features.count())\n",
    "    counts = list(counts)\n",
    "    entropy_values = []\n",
    "    for i in range(len(labels)):\n",
    "        val = (-counts[i]/np.sum(counts))*np.log2(counts[i]/np.sum(counts))\n",
    "        entropy_values.append(val)\n",
    "    return np.sum(entropy_values)"
   ]
  },
  {
   "cell_type": "code",
   "execution_count": 3,
   "metadata": {},
   "outputs": [],
   "source": [
    "# Module for calculating info gamin using entropy\n",
    "def InfoGain(data, splitAttribute, targetFeature):\n",
    "    pre_entropy = entropy(data[targetFeature])\n",
    "    vals, counts = np.unique(data[splitAttribute], return_counts=True)\n",
    "    counts = list(counts)\n",
    "    post_enpropy_values = []\n",
    "    for i in range(len(vals)):\n",
    "        target_feature = data.where(data[splitAttribute]==vals[i]).dropna()[targetFeature]\n",
    "        entropy_i = entropy(target_feature)\n",
    "        post_enpropy_values.append((counts[i]/np.sum(counts))*entropy_i) \n",
    "    post_entropy = np.sum(post_enpropy_values)\n",
    "#     print(pre_entropy)\n",
    "#     print(post_entropy)\n",
    "    \n",
    "    info_gain = pre_entropy - post_entropy\n",
    "#     print(info_gain)\n",
    "#     print(splitAttribute)\n",
    "    return info_gain"
   ]
  },
  {
   "cell_type": "code",
   "execution_count": 4,
   "metadata": {},
   "outputs": [],
   "source": [
    "# Module for finding gain ratio for C4.5 algorithm\n",
    "def GainRatio(data, splitAttribute, targetFeature):\n",
    "    info_gain = InfoGain(data, splitAttribute, targetFeature)\n",
    "    vals, counts = np.unique(data[splitAttribute], return_counts=True)\n",
    "    counts = list(counts)\n",
    "    split_info_values = []\n",
    "    for i in range(len(counts)):\n",
    "        split_info_values.append(-(counts[i]/np.sum(counts))*np.log2(counts[i]/np.sum(counts)))\n",
    "    gain_ratio = info_gain/np.sum(split_info_values)\n",
    "#     print(gain_ratio)\n",
    "    return gain_ratio"
   ]
  },
  {
   "cell_type": "code",
   "execution_count": 5,
   "metadata": {},
   "outputs": [],
   "source": [
    "# Module for Defining Gini Index equation\n",
    "def GiniIndex(features):\n",
    "    labels, counts = np.unique(features, return_counts=True)\n",
    "    counts = list(counts)\n",
    "    giniVal = []\n",
    "    for i in range(len(labels)):\n",
    "        giniVal.append(np.square((-counts[i]/np.sum(counts))))\n",
    "#     print(1-np.sum(giniVal))\n",
    "    return 1-np.sum(giniVal)"
   ]
  },
  {
   "cell_type": "code",
   "execution_count": 6,
   "metadata": {},
   "outputs": [],
   "source": [
    "# Module for retunrning the Gini index difference between parent and childs\n",
    "def ChangeInGini(data, splitAttribute, targetFeature):\n",
    "    pre_gini = GiniIndex(data[targetFeature])\n",
    "    vals, counts = np.unique(data[splitAttribute], return_counts=True)\n",
    "    counts = list(counts)\n",
    "    giniValues = []\n",
    "    for i in range(len(counts)):\n",
    "        val = counts[i]/np.sum(counts)*GiniIndex(data.where(data[splitAttribute]==vals[i]).dropna()[targetFeature])\n",
    "        giniValues.append(val)\n",
    "    post_gini = np.sum([giniValues])\n",
    "#     print(pre_gini-post_gini)\n",
    "    return pre_gini-post_gini"
   ]
  },
  {
   "cell_type": "code",
   "execution_count": 7,
   "metadata": {
    "scrolled": false
   },
   "outputs": [],
   "source": [
    "#Implementing ID3 algorithm using information gain.\n",
    "def ID3(data,originaldata,features,target_attribute=\"Label\",parent_node = None):\n",
    "    \n",
    "    #Defining stop criterias\n",
    "    if len(np.unique(data[target_attribute])) <= 1:\n",
    "        return np.unique(data[target_attribute])[0]\n",
    "    \n",
    "    #If the dataset is empty, return the mode target feature value in the original dataset\n",
    "    elif len(data)==0:\n",
    "        return np.unique(originaldata[target_attribute])[np.argmax(np.unique(originaldata[target_attribute],return_counts=True)[1])]\n",
    "    \n",
    "    #If there is no more features // All features has been used\n",
    "    elif len(features) ==0:\n",
    "        return parent_node\n",
    "    \n",
    "    elif [InfoGain(data,feature,target_attribute) for feature in features] == 0:\n",
    "        return parent_node\n",
    "    \n",
    "    #Else lets the tree growing\n",
    "    else:\n",
    "        parent_node = np.unique(data[target_attribute])[np.argmax(np.unique(data[target_attribute],return_counts=True)[1])]\n",
    "        \n",
    "        item_values = [InfoGain(data,feature,target_attribute) for feature in features] \n",
    "        best_feature_index = np.argmax(item_values)\n",
    "        best_feature = features[best_feature_index]\n",
    "        \n",
    "        tree = {best_feature:{}}\n",
    "        \n",
    "        \n",
    "        #Removing the feature with the best inforamtion gain from features list\n",
    "        new_features_set = []\n",
    "        for i in features:\n",
    "            if i!=best_feature:\n",
    "                new_features_set.append(i)\n",
    "        \n",
    "        for value in np.unique(data[best_feature]):\n",
    "            value = value\n",
    "            #Split the dataset along the value of the feature with the largest information gain\n",
    "            sub_data = data.where(data[best_feature] == value).dropna()\n",
    "            \n",
    "            #Call the ID3 algorithm for each sub data sets\n",
    "            subtree = ID3(sub_data,originaldata,new_features_set,target_attribute,parent_node)\n",
    "            \n",
    "            tree[best_feature][value] = subtree\n",
    "            \n",
    "        return(tree) "
   ]
  },
  {
   "cell_type": "code",
   "execution_count": 8,
   "metadata": {},
   "outputs": [],
   "source": [
    "# Implementing C4.5 Algorithm using gain ratio\n",
    "def C45(data,originaldata,features,target_attribute=\"Label\",parent_node = None):\n",
    "    \n",
    "    #Defining stop criterias\n",
    "    if len(np.unique(data[target_attribute])) <= 1:\n",
    "        return np.unique(data[target_attribute])[0]\n",
    "    \n",
    "    #If the dataset is empty, return the mode target feature value in the original dataset\n",
    "    elif len(data)==0:\n",
    "        return np.unique(originaldata[target_attribute])[np.argmax(np.unique(originaldata[target_attribute],return_counts=True)[1])]\n",
    "    \n",
    "    #If there is no more features // All features has been used\n",
    "    elif len(features) ==0:\n",
    "        return parent_node\n",
    "    \n",
    "    elif [GainRatio(data,feature,target_attribute) for feature in features] == 0:\n",
    "        return parent_node\n",
    "    \n",
    "    #Else lets the tree growing\n",
    "    else:\n",
    "        parent_node = np.unique(data[target_attribute])[np.argmax(np.unique(data[target_attribute],return_counts=True)[1])]\n",
    "        \n",
    "        item_values = [GainRatio(data,feature,target_attribute) for feature in features] \n",
    "        best_feature_index = np.argmax(item_values)\n",
    "        best_feature = features[best_feature_index]\n",
    "        \n",
    "        tree = {best_feature:{}}\n",
    "        \n",
    "        \n",
    "        #Removing the feature with the best inforamtion gain from features list\n",
    "        new_features_set = []\n",
    "        for i in features:\n",
    "            if i!=best_feature:\n",
    "                new_features_set.append(i)\n",
    "        \n",
    "        for value in np.unique(data[best_feature]):\n",
    "            value = value\n",
    "            #Split the dataset along the value of the feature with the largest information gain\n",
    "            sub_data = data.where(data[best_feature] == value).dropna()\n",
    "            \n",
    "            #Call the ID3 algorithm for each sub data sets\n",
    "            subtree = C45(sub_data,originaldata,new_features_set,target_attribute,parent_node)\n",
    "            \n",
    "            tree[best_feature][value] = subtree\n",
    "            \n",
    "        return(tree) "
   ]
  },
  {
   "cell_type": "code",
   "execution_count": 9,
   "metadata": {},
   "outputs": [],
   "source": [
    "# Implementing CART Algorithm using Gini Index\n",
    "def CART(data,originaldata,features,target_attribute=\"Label\",parent_node = None):\n",
    "    \n",
    "    #Defining stop criterias\n",
    "    if len(np.unique(data[target_attribute])) <= 1:\n",
    "        return np.unique(data[target_attribute])[0]\n",
    "    \n",
    "    #If the dataset is empty, return the mode target feature value in the original dataset\n",
    "    elif len(data)==0:\n",
    "        return np.unique(originaldata[target_attribute])[np.argmax(np.unique(originaldata[target_attribute],return_counts=True)[1])]\n",
    "    \n",
    "    #If there is no more features // All features has been used\n",
    "    elif len(features) ==0:\n",
    "        return parent_node\n",
    "    \n",
    "    elif [ChangeInGini(data,feature,target_attribute) for feature in features] == 0:\n",
    "        return parent_node\n",
    "    \n",
    "    #Else lets the tree growing\n",
    "    else:\n",
    "        parent_node = np.unique(data[target_attribute])[np.argmax(np.unique(data[target_attribute],return_counts=True)[1])]\n",
    "        \n",
    "        item_values = [ChangeInGini(data,feature,target_attribute) for feature in features] \n",
    "        best_feature_index = np.argmax(item_values)\n",
    "        best_feature = features[best_feature_index]\n",
    "        \n",
    "        tree = {best_feature:{}}\n",
    "        \n",
    "        \n",
    "        #Removing the feature with the best inforamtion gain from features list\n",
    "        new_features_set = []\n",
    "        for i in features:\n",
    "            if i!=best_feature:\n",
    "                new_features_set.append(i)\n",
    "        \n",
    "        for value in np.unique(data[best_feature]):\n",
    "            value = value\n",
    "            #Split the dataset along the value of the feature with the largest information gain\n",
    "            sub_data = data.where(data[best_feature] == value).dropna()\n",
    "            \n",
    "            #Call the ID3 algorithm for each sub data sets\n",
    "            subtree = CART(sub_data,originaldata,new_features_set,target_attribute,parent_node)\n",
    "            \n",
    "            tree[best_feature][value] = subtree\n",
    "            \n",
    "        return(tree) "
   ]
  },
  {
   "cell_type": "code",
   "execution_count": 10,
   "metadata": {
    "scrolled": false
   },
   "outputs": [],
   "source": [
    "def DecisionTreeClassifier(query,tree, Label='Win'):\n",
    "    for key in list(query.keys()):\n",
    "        if key in list(tree.keys()):\n",
    "            try:\n",
    "                result = tree[key][query[key]] \n",
    "            except:\n",
    "                return Label\n",
    "            result = tree[key][query[key]]\n",
    "            if isinstance(result,dict):\n",
    "                return DecisionTreeClassifier(query,result)\n",
    "            else:\n",
    "                return result"
   ]
  },
  {
   "cell_type": "markdown",
   "metadata": {},
   "source": [
    "## Task 4 - Question 1"
   ]
  },
  {
   "cell_type": "code",
   "execution_count": 11,
   "metadata": {
    "scrolled": true
   },
   "outputs": [
    {
     "name": "stdout",
     "output_type": "stream",
     "text": [
      "ID3 Tree:\n",
      "{'InOrOut': {'In': 'Lose', 'Out': 'Win'}}\n",
      "C45 Tree:\n",
      "{'InOrOut': {'In': 'Lose', 'Out': 'Win'}}\n",
      "CART Tree:\n",
      "{'InOrOut': {'In': 'Lose', 'Out': 'Win'}}\n"
     ]
    }
   ],
   "source": [
    "\n",
    "train = pd.read_csv('task4-1.csv')\n",
    "# print(train.head())\n",
    "features= list(train)[1:-1]\n",
    "Label = list(train)[-1]\n",
    "# print(train)\n",
    "# print(Label)\n",
    "tree_ID3 = ID3(train,train,features[:],Label)\n",
    "tree_C45 = C45(train,train,features[:],Label)\n",
    "tree_CART = CART(train,train,features[:],Label)\n",
    "print(\"ID3 Tree:\")\n",
    "print(tree_ID3)\n",
    "print(\"C45 Tree:\")\n",
    "print(tree_C45)\n",
    "print(\"CART Tree:\")\n",
    "print(tree_CART)\n"
   ]
  },
  {
   "cell_type": "markdown",
   "metadata": {},
   "source": [
    "## Task 4 - Question 2"
   ]
  },
  {
   "cell_type": "code",
   "execution_count": 12,
   "metadata": {
    "scrolled": false
   },
   "outputs": [
    {
     "name": "stdout",
     "output_type": "stream",
     "text": [
      "ID3 Tree:\n",
      "{'Outlook': {'Overcast': 'Yes', 'Rainy': {'Windy': {\"'False'\": 'Yes', \"'True'\": 'No'}}, 'Sunny': {'Humidity': {'High': 'No', 'Normal': 'Yes'}}}}\n",
      "C45 Tree:\n",
      "{'Outlook': {'Overcast': 'Yes', 'Rainy': {'Windy': {\"'False'\": 'Yes', \"'True'\": 'No'}}, 'Sunny': {'Humidity': {'High': 'No', 'Normal': 'Yes'}}}}\n",
      "CART Tree:\n",
      "{'Outlook': {'Overcast': 'Yes', 'Rainy': {'Windy': {\"'False'\": 'Yes', \"'True'\": 'No'}}, 'Sunny': {'Humidity': {'High': 'No', 'Normal': 'Yes'}}}}\n"
     ]
    }
   ],
   "source": [
    "train = pd.read_csv('task4-2.csv')\n",
    "# print(train.head())\n",
    "features= list(train)[1:-1]\n",
    "Label = list(train)[-1]\n",
    "tree_ID3 = ID3(train,train,features[:],Label)\n",
    "tree_C45 = C45(train,train,features[:],Label)\n",
    "tree_CART = CART(train,train,features[:],Label)\n",
    "print(\"ID3 Tree:\")\n",
    "print(tree_ID3)\n",
    "print(\"C45 Tree:\")\n",
    "print(tree_C45)\n",
    "print(\"CART Tree:\")\n",
    "print(tree_CART)"
   ]
  },
  {
   "cell_type": "markdown",
   "metadata": {},
   "source": [
    "## Task 5"
   ]
  },
  {
   "cell_type": "code",
   "execution_count": 13,
   "metadata": {
    "scrolled": false
   },
   "outputs": [
    {
     "name": "stderr",
     "output_type": "stream",
     "text": [
      "C:\\ProgramData\\Anaconda3\\lib\\site-packages\\ipykernel_launcher.py:9: RuntimeWarning: invalid value encountered in double_scalars\n",
      "  if __name__ == '__main__':\n"
     ]
    },
    {
     "name": "stdout",
     "output_type": "stream",
     "text": [
      "{'Media': {'ABC': {'Is_Opponent_in_AP25_Preseason': {'In': 'Lose', 'Out': {'Is_Home_or_Away': {'Away': 'Win'}}}}, 'CBS': 'Lose', 'ESPN': 'Win', 'FOX': 'Lose', 'NBC': {'Is_Opponent_in_AP25_Preseason': {'In': {'Is_Home_or_Away': {'Home': 'Lose'}}, 'Out': {'Is_Home_or_Away': {'Away': 'Win', 'Home': 'Win'}}}}}}\n",
      "\n",
      "{'Is_Opponent_in_AP25_Preseason': {'In': {'Is_Home_or_Away': {'Away': 'Lose', 'Home': {'Media': {'NBC': 'Lose'}}}}, 'Out': {'Media': {'ABC': {'Is_Home_or_Away': {'Away': 'Win'}}, 'CBS': 'Lose', 'ESPN': 'Win', 'NBC': {'Is_Home_or_Away': {'Away': 'Win', 'Home': 'Win'}}}}}}\n",
      "\n"
     ]
    }
   ],
   "source": [
    "train = pd.read_csv('task5_train.csv')\n",
    "# print(train.columns)\n",
    "test = pd.read_csv('task5_test.csv')\n",
    "true_labels = list(test[\"Label\"])\n",
    "\n",
    "# Get feature names and label name\n",
    "features= list(train)[1:-1]\n",
    "Label = list(train)[-1]\n",
    "\n",
    "tree_ID3 = ID3(train,train,features[:],Label)\n",
    "tree_C45 = C45(train,train,features[:],Label)\n",
    "tree_CART = CART(train,train,features[:],Label)\n",
    "print(tree_ID3)\n",
    "print()\n",
    "print(tree_C45)\n",
    "print()\n",
    "\n",
    "queries = test.iloc[:,1:-1].to_dict(orient = \"records\")\n",
    "# print(queries)\n",
    "predicted_ID3 = []\n",
    "for i in range(len(test)):\n",
    "    predicted_ID3.append(DecisionTreeClassifier(queries[i],tree_ID3,1.0))\n",
    "\n",
    "    \n",
    "predicted_C45 = []\n",
    "for i in range(len(test)):\n",
    "    predicted_C45.append(DecisionTreeClassifier(queries[i],tree_C45,1.0))\n",
    "\n",
    " "
   ]
  },
  {
   "cell_type": "code",
   "execution_count": 14,
   "metadata": {},
   "outputs": [
    {
     "name": "stdout",
     "output_type": "stream",
     "text": [
      "true_labels\n",
      "['Win', 'Lose', 'Win', 'Win', 'Win', 'Win', 'Win', 'Win', 'Win', 'Lose', 'Win', 'Lose']\n",
      "\n",
      "predicted_ID3\n",
      "['Win', 'Lose', 'Win', 'Lose', 'Win', 'Win', 'Lose', 'Win', 'Win', 'Lose', 'Win', 'Lose']\n",
      "\n",
      "predicted_C45\n",
      "['Win', 'Lose', 'Win', 'Win', 'Win', 'Win', 'Lose', 'Win', 'Win', 'Lose', 'Win', 'Lose']\n"
     ]
    }
   ],
   "source": [
    "print(\"true_labels\")\n",
    "print(true_labels)\n",
    "\n",
    "print()\n",
    "print(\"predicted_ID3\")\n",
    "print(predicted_ID3)\n",
    "print()\n",
    "\n",
    "print(\"predicted_C45\")\n",
    "print(predicted_C45) "
   ]
  },
  {
   "cell_type": "code",
   "execution_count": 15,
   "metadata": {
    "scrolled": true
   },
   "outputs": [
    {
     "name": "stdout",
     "output_type": "stream",
     "text": [
      "ID3 Classification Model:\n",
      "Accuracy:  0.833333333333\n",
      "             precision    recall  f1-score   support\n",
      "\n",
      "       Lose       0.60      1.00      0.75         3\n",
      "        Win       1.00      0.78      0.88         9\n",
      "\n",
      "avg / total       0.90      0.83      0.84        12\n",
      "\n",
      "\n",
      "C45 Classification Model:\n",
      "Accuracy:  0.916666666667\n",
      "             precision    recall  f1-score   support\n",
      "\n",
      "       Lose       0.75      1.00      0.86         3\n",
      "        Win       1.00      0.89      0.94         9\n",
      "\n",
      "avg / total       0.94      0.92      0.92        12\n",
      "\n",
      "\n"
     ]
    }
   ],
   "source": [
    "print(\"ID3 Classification Model:\")\n",
    "print(\"Accuracy: \", metrics.accuracy_score(true_labels, predicted_ID3))\n",
    "print(classification_report(true_labels, predicted_ID3))\n",
    "print()\n",
    "print(\"C45 Classification Model:\")\n",
    "print(\"Accuracy: \", metrics.accuracy_score(true_labels, predicted_C45))\n",
    "print(classification_report(true_labels, predicted_C45))\n",
    "print()\n"
   ]
  },
  {
   "cell_type": "markdown",
   "metadata": {},
   "source": [
    "To implement the algorithms from scratch I learn and took idea from the following link:\n",
    "https://www.python-course.eu/Decision_Trees.php"
   ]
  },
  {
   "cell_type": "code",
   "execution_count": null,
   "metadata": {},
   "outputs": [],
   "source": []
  }
 ],
 "metadata": {
  "kernelspec": {
   "display_name": "Python 3",
   "language": "python",
   "name": "python3"
  },
  "language_info": {
   "codemirror_mode": {
    "name": "ipython",
    "version": 3
   },
   "file_extension": ".py",
   "mimetype": "text/x-python",
   "name": "python",
   "nbconvert_exporter": "python",
   "pygments_lexer": "ipython3",
   "version": "3.6.3"
  }
 },
 "nbformat": 4,
 "nbformat_minor": 2
}
