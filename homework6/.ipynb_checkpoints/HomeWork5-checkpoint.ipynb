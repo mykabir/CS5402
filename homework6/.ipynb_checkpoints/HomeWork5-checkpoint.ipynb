{
 "cells": [
  {
   "cell_type": "markdown",
   "metadata": {},
   "source": [
    "<h1 align=\"center\">  Homework: 5 </h1>\n",
    "<h2 align=\"center\"> CS 5402 </h2>\n",
    "<h3 align=\"center\"> By: Md Yasin Kabir, email: mkdv6@mst.edu </h3>\n"
   ]
  },
  {
   "cell_type": "code",
   "execution_count": 1,
   "metadata": {},
   "outputs": [],
   "source": [
    "# Importing necessary packages\n",
    "import pandas as pd\n",
    "import numpy as np\n",
    "from sklearn.preprocessing import normalize\n",
    "from sklearn import metrics\n",
    "import random\n",
    "import matplotlib.pyplot as plt\n",
    "import seaborn as sns\n",
    "from scipy import stats\n",
    "from copy import deepcopy\n",
    "plt.rcParams['figure.figsize'] = (16, 9)\n",
    "plt.style.use('ggplot')\n",
    "%matplotlib inline"
   ]
  },
  {
   "cell_type": "code",
   "execution_count": 2,
   "metadata": {},
   "outputs": [
    {
     "name": "stdout",
     "output_type": "stream",
     "text": [
      "(10, 3)\n"
     ]
    },
    {
     "data": {
      "text/html": [
       "<div>\n",
       "<style scoped>\n",
       "    .dataframe tbody tr th:only-of-type {\n",
       "        vertical-align: middle;\n",
       "    }\n",
       "\n",
       "    .dataframe tbody tr th {\n",
       "        vertical-align: top;\n",
       "    }\n",
       "\n",
       "    .dataframe thead th {\n",
       "        text-align: right;\n",
       "    }\n",
       "</style>\n",
       "<table border=\"1\" class=\"dataframe\">\n",
       "  <thead>\n",
       "    <tr style=\"text-align: right;\">\n",
       "      <th></th>\n",
       "      <th>Team</th>\n",
       "      <th>winsInSeason2016</th>\n",
       "      <th>winsInSeason2017</th>\n",
       "    </tr>\n",
       "  </thead>\n",
       "  <tbody>\n",
       "    <tr>\n",
       "      <th>0</th>\n",
       "      <td>X1</td>\n",
       "      <td>3</td>\n",
       "      <td>5</td>\n",
       "    </tr>\n",
       "    <tr>\n",
       "      <th>1</th>\n",
       "      <td>X2</td>\n",
       "      <td>3</td>\n",
       "      <td>4</td>\n",
       "    </tr>\n",
       "    <tr>\n",
       "      <th>2</th>\n",
       "      <td>X3</td>\n",
       "      <td>2</td>\n",
       "      <td>8</td>\n",
       "    </tr>\n",
       "    <tr>\n",
       "      <th>3</th>\n",
       "      <td>X4</td>\n",
       "      <td>2</td>\n",
       "      <td>3</td>\n",
       "    </tr>\n",
       "    <tr>\n",
       "      <th>4</th>\n",
       "      <td>X5</td>\n",
       "      <td>6</td>\n",
       "      <td>2</td>\n",
       "    </tr>\n",
       "  </tbody>\n",
       "</table>\n",
       "</div>"
      ],
      "text/plain": [
       "  Team  winsInSeason2016  winsInSeason2017\n",
       "0   X1                 3                 5\n",
       "1   X2                 3                 4\n",
       "2   X3                 2                 8\n",
       "3   X4                 2                 3\n",
       "4   X5                 6                 2"
      ]
     },
     "execution_count": 2,
     "metadata": {},
     "output_type": "execute_result"
    }
   ],
   "source": [
    "# Importing the dataset\n",
    "data = pd.read_csv('football.csv')\n",
    "print(data.shape)\n",
    "data.head()"
   ]
  },
  {
   "cell_type": "code",
   "execution_count": 3,
   "metadata": {
    "scrolled": true
   },
   "outputs": [
    {
     "data": {
      "text/plain": [
       "<matplotlib.collections.PathCollection at 0x2207a6cef98>"
      ]
     },
     "execution_count": 3,
     "metadata": {},
     "output_type": "execute_result"
    },
    {
     "data": {
      "image/png": "[encoded data removed]",
      "text/plain": [
       "<matplotlib.figure.Figure at 0x2207a56a160>"
      ]
     },
     "metadata": {},
     "output_type": "display_data"
    }
   ],
   "source": [
    "# Getting the values and plotting it\n",
    "f1 = data['winsInSeason2016'].values\n",
    "f2 = data['winsInSeason2017'].values\n",
    "X = np.array(list(zip(f1, f2)))\n",
    "plt.scatter(f1, f2, c='black')"
   ]
  },
  {
   "cell_type": "code",
   "execution_count": 4,
   "metadata": {},
   "outputs": [],
   "source": [
    "# Number of clusters\n",
    "k = 2\n",
    "# X coordinates of random centroids\n",
    "C_x = [4,5]\n",
    "# Y coordinates of random centroids\n",
    "C_y = [6,4]\n",
    "C = np.array(list(zip(C_x, C_y)), dtype=np.float32)"
   ]
  },
  {
   "cell_type": "code",
   "execution_count": 5,
   "metadata": {},
   "outputs": [],
   "source": [
    "def manhattan(a, b, ax=1):\n",
    "    return np.sum(np.abs(a-b), axis=ax)\n",
    "\n",
    "def euclidean(a, b, ax=1):\n",
    "    return np.sum((a-b)**2, axis=ax)\n",
    "#     return (a-b)\n",
    "\n",
    "def cosine(a,b, ax=1):\n",
    "    val = 1- np.dot(a,b) /(np.linalg.norm(a))*np.sum(np.linalg.norm(b))\n",
    "#     print(val)\n",
    "    return val\n",
    "\n",
    "def jaccard(a, b, ax=1):\n",
    "    return (1-np.sum(np.minimum(a,b),axis=ax)/np.sum(np.maximum(a,b),axis=ax))\n",
    "\n",
    "distMetric = {\"manhattan\":0, \"euclidean\":1, \"cosine\":2, \"jaccard\":3}\n",
    "metrics = {\n",
    "        distMetric['manhattan']: manhattan,\n",
    "        distMetric['euclidean']: euclidean,\n",
    "        distMetric['cosine']: cosine,\n",
    "        distMetric['jaccard']: jaccard\n",
    "    }\n",
    "def sse(X, clusters, C, metric=euclidean):\n",
    "    sseVal = 0\n",
    "    for i, centroid in enumerate(C):\n",
    "        sseVal += np.sum(metric(X[np.where(clusters==i)], centroid))\n",
    "    \n",
    "    return sseVal"
   ]
  },
  {
   "cell_type": "code",
   "execution_count": null,
   "metadata": {},
   "outputs": [],
   "source": []
  },
  {
   "cell_type": "code",
   "execution_count": 6,
   "metadata": {
    "scrolled": false
   },
   "outputs": [],
   "source": [
    "maxIT = 100\n",
    "\n",
    "def kmeans(X, C=C, k=2, metric=distMetric['manhattan'], max_iter= maxIT):\n",
    "    np.random.seed(99)\n",
    "    \n",
    "    if C is None:\n",
    "        C = X[np.random.choice(len(X), size=k, replace=False)]\n",
    "    # To store the value of centroids when it updates\n",
    "    C_old = np.ones(C.shape)\n",
    "    # Cluster Lables(0, 1, 2)\n",
    "    clusters = np.zeros(len(X))\n",
    "    # Error func. - Distance between new centroids and old centroids\n",
    "#     print(C)\n",
    "#     print(C_old)\n",
    "    \n",
    "    metrics = {\n",
    "        distMetric['manhattan']: manhattan,\n",
    "        distMetric['euclidean']: euclidean,\n",
    "        distMetric['cosine']: cosine,\n",
    "        distMetric['jaccard']: jaccard\n",
    "    }\n",
    "    \n",
    "    error = metrics[metric](C, C_old, None)\n",
    "    # Loop will run till the error becomes zero\n",
    "#     print(error)\n",
    "    error = np.array(error)\n",
    "    count = 1\n",
    "    prev_sse = 0\n",
    "    curr_sse = 0\n",
    "    while error.any() != 0:\n",
    "        # Assigning each value to its closest cluster\n",
    "        for i in range(len(X)):\n",
    "#             print(X[i])\n",
    "#             print(C)\n",
    "            distances = metrics[metric](X[i], C)\n",
    "#             print(distances)\n",
    "            cluster = np.argmin([distances])\n",
    "#             print(cluster)\n",
    "            clusters[i] = cluster\n",
    "        # Storing the old centroid values\n",
    "        C_old = deepcopy(C)\n",
    "        curr_sse = sse(X, clusters, C)\n",
    "        print('Iteration: {}'.format(count))\n",
    "        print('Current SSE: {}'.format(curr_sse))\n",
    "        print('Previous SSE: {}'.format(prev_sse))\n",
    "        # Finding the new centroids by taking the average value\n",
    "        for i in range(k):\n",
    "            points = [X[j] for j in range(len(X)) if clusters[j] == i]\n",
    "#             print(points)\n",
    "            C[i] = np.mean(points, axis=0) \n",
    "#         print(C)\n",
    "        error_old = deepcopy(error)\n",
    "        error = metrics[metric](C, C_old, None)\n",
    "        if count>0:\n",
    "            if np.sum(error_old) == np.sum(error):\n",
    "                break\n",
    "        if count>max_iter+1:\n",
    "            break\n",
    "        count = count+1\n",
    "        prev_sse = curr_sse\n",
    "    return clusters, count"
   ]
  },
  {
   "cell_type": "code",
   "execution_count": 7,
   "metadata": {
    "scrolled": false
   },
   "outputs": [
    {
     "name": "stdout",
     "output_type": "stream",
     "text": [
      "Iteration: 1\n",
      "Current SSE: 58.0\n",
      "Previous SSE: 0\n",
      "Iteration: 2\n",
      "Current SSE: 54.09523809523847\n",
      "Previous SSE: 58.0\n",
      "3\n"
     ]
    },
    {
     "data": {
      "image/png": "[encoded data removed]",
      "text/plain": [
       "<matplotlib.figure.Figure at 0x2207a6dea90>"
      ]
     },
     "metadata": {},
     "output_type": "display_data"
    }
   ],
   "source": [
    "# Number of clusters\n",
    "k = 2\n",
    "# X coordinates of random centroids\n",
    "C_x = [4,5]\n",
    "# Y coordinates of random centroids\n",
    "C_y = [6,4]\n",
    "C = np.array(list(zip(C_x, C_y)), dtype=np.float32)\n",
    "# Plotting along with the Centroids\n",
    "plt.scatter(f1, f2, c='#050505')\n",
    "plt.scatter(C_x, C_y, marker='*', s=200, c='g')\n",
    "\n",
    "clusters, count = kmeans(X, C=C, k=2, metric=distMetric['manhattan'], max_iter= 100)\n",
    "print(count)"
   ]
  },
  {
   "cell_type": "code",
   "execution_count": 8,
   "metadata": {
    "scrolled": false
   },
   "outputs": [
    {
     "name": "stdout",
     "output_type": "stream",
     "text": [
      "[ 0.  1.  0.  1.  1.  1.  1.  1.  1.  0.]\n"
     ]
    },
    {
     "data": {
      "text/plain": [
       "<matplotlib.collections.PathCollection at 0x2207a91c860>"
      ]
     },
     "execution_count": 8,
     "metadata": {},
     "output_type": "execute_result"
    },
    {
     "data": {
      "image/png": "[encoded data removed]",
      "text/plain": [
       "<matplotlib.figure.Figure at 0x2207a5805c0>"
      ]
     },
     "metadata": {},
     "output_type": "display_data"
    }
   ],
   "source": [
    "print(clusters)\n",
    "colors = ['r', 'g', 'b', 'y', 'c', 'm']\n",
    "fig, ax = plt.subplots()\n",
    "for i in range(k):\n",
    "        points = np.array([X[j] for j in range(len(X)) if clusters[j] == i])\n",
    "#         print(points)\n",
    "        ax.scatter(points[:, 0], points[:, 1], c=colors[i])\n",
    "ax.scatter(C[:, 0], C[:, 1], marker='*', s=200, c='#050505')"
   ]
  },
  {
   "cell_type": "code",
   "execution_count": 9,
   "metadata": {},
   "outputs": [
    {
     "data": {
      "text/plain": [
       "<matplotlib.collections.PathCollection at 0x2207ad04b00>"
      ]
     },
     "execution_count": 9,
     "metadata": {},
     "output_type": "execute_result"
    },
    {
     "data": {
      "image/png": "[encoded data removed]",
      "text/plain": [
       "<matplotlib.figure.Figure at 0x2207a7d1940>"
      ]
     },
     "metadata": {},
     "output_type": "display_data"
    }
   ],
   "source": [
    "# Getting the values and plotting it\n",
    "f1 = data['winsInSeason2016'].values\n",
    "f2 = data['winsInSeason2017'].values\n",
    "X = np.array(list(zip(f1, f2)))\n",
    "plt.scatter(f1, f2, c='black')"
   ]
  },
  {
   "cell_type": "code",
   "execution_count": 10,
   "metadata": {
    "scrolled": false
   },
   "outputs": [
    {
     "name": "stdout",
     "output_type": "stream",
     "text": [
      "Iteration: 1\n",
      "Current SSE: 57.0\n",
      "Previous SSE: 0\n",
      "Iteration: 2\n",
      "Current SSE: 43.96875\n",
      "Previous SSE: 57.0\n",
      "Iteration: 3\n",
      "Current SSE: 27.833333333333485\n",
      "Previous SSE: 43.96875\n"
     ]
    },
    {
     "data": {
      "text/plain": [
       "<matplotlib.collections.PathCollection at 0x2207ae128d0>"
      ]
     },
     "execution_count": 10,
     "metadata": {},
     "output_type": "execute_result"
    },
    {
     "data": {
      "image/png": "[encoded data removed]",
      "text/plain": [
       "<matplotlib.figure.Figure at 0x2207a9489e8>"
      ]
     },
     "metadata": {},
     "output_type": "display_data"
    },
    {
     "data": {
      "image/png": "[encoded data removed]",
      "text/plain": [
       "<matplotlib.figure.Figure at 0x2207a8d8470>"
      ]
     },
     "metadata": {},
     "output_type": "display_data"
    }
   ],
   "source": [
    "# Number of clusters\n",
    "k = 2\n",
    "# X coordinates of random centroids\n",
    "C_x = [4,5]\n",
    "# Y coordinates of random centroids\n",
    "C_y = [6,4]\n",
    "C = np.array(list(zip(C_x, C_y)), dtype=np.float32)\n",
    "# Plotting along with the Centroids\n",
    "plt.scatter(f1, f2, c='#050505')\n",
    "plt.scatter(C_x, C_y, marker='*', s=200, c='g')\n",
    "\n",
    "clusters,count = kmeans(X, C=C, k=2, metric=distMetric['euclidean'])\n",
    "# print(clusters)\n",
    "\n",
    "colors = ['r', 'g', 'b', 'y', 'c', 'm']\n",
    "fig, ax = plt.subplots()\n",
    "for i in range(k):\n",
    "        points = np.array([X[j] for j in range(len(X)) if clusters[j] == i])\n",
    "#         print(points)\n",
    "        ax.scatter(points[:, 0], points[:, 1], c=colors[i])\n",
    "ax.scatter(C[:, 0], C[:, 1], marker='*', s=200, c='#050505')"
   ]
  },
  {
   "cell_type": "code",
   "execution_count": 11,
   "metadata": {
    "scrolled": false
   },
   "outputs": [
    {
     "name": "stdout",
     "output_type": "stream",
     "text": [
      "Iteration: 1\n",
      "Current SSE: 59.0\n",
      "Previous SSE: 0\n",
      "Iteration: 2\n",
      "Current SSE: 27.833333333333485\n",
      "Previous SSE: 59.0\n"
     ]
    },
    {
     "data": {
      "text/plain": [
       "<matplotlib.collections.PathCollection at 0x2207af52ba8>"
      ]
     },
     "execution_count": 11,
     "metadata": {},
     "output_type": "execute_result"
    },
    {
     "data": {
      "image/png": "[encoded data removed]",
      "text/plain": [
       "<matplotlib.figure.Figure at 0x2207ae72048>"
      ]
     },
     "metadata": {},
     "output_type": "display_data"
    },
    {
     "data": {
      "image/png": "[encoded data removed]",
      "text/plain": [
       "<matplotlib.figure.Figure at 0x2207aef8be0>"
      ]
     },
     "metadata": {},
     "output_type": "display_data"
    }
   ],
   "source": [
    "# Number of clusters\n",
    "k = 2\n",
    "# X coordinates of random centroids\n",
    "C_x = [3,8]\n",
    "# Y coordinates of random centroids\n",
    "C_y = [3,3]\n",
    "C = np.array(list(zip(C_x, C_y)), dtype=np.float32)\n",
    "# Plotting along with the Centroids\n",
    "plt.scatter(f1, f2, c='#050505')\n",
    "plt.scatter(C_x, C_y, marker='*', s=200, c='g')\n",
    "\n",
    "clusters,count = kmeans(X, C=C, k=2, metric=distMetric['manhattan'])\n",
    "\n",
    "colors = ['r', 'g', 'b', 'y', 'c', 'm']\n",
    "fig, ax = plt.subplots()\n",
    "for i in range(k):\n",
    "        points = np.array([X[j] for j in range(len(X)) if clusters[j] == i])\n",
    "#         print(points)\n",
    "        ax.scatter(points[:, 0], points[:, 1], c=colors[i])\n",
    "ax.scatter(C[:, 0], C[:, 1], marker='*', s=200, c='#050505')"
   ]
  },
  {
   "cell_type": "code",
   "execution_count": 12,
   "metadata": {
    "scrolled": false
   },
   "outputs": [
    {
     "name": "stdout",
     "output_type": "stream",
     "text": [
      "Iteration: 1\n",
      "Current SSE: 116.0\n",
      "Previous SSE: 0\n",
      "Iteration: 2\n",
      "Current SSE: 57.9047619047621\n",
      "Previous SSE: 116.0\n"
     ]
    },
    {
     "data": {
      "text/plain": [
       "<matplotlib.collections.PathCollection at 0x2207b09da90>"
      ]
     },
     "execution_count": 12,
     "metadata": {},
     "output_type": "execute_result"
    },
    {
     "data": {
      "image/png": "[encoded data removed]",
      "text/plain": [
       "<matplotlib.figure.Figure at 0x2207afb5898>"
      ]
     },
     "metadata": {},
     "output_type": "display_data"
    },
    {
     "data": {
      "image/png": "[encoded data removed]",
      "text/plain": [
       "<matplotlib.figure.Figure at 0x2207b037e48>"
      ]
     },
     "metadata": {},
     "output_type": "display_data"
    }
   ],
   "source": [
    "# Number of clusters\n",
    "k = 2\n",
    "# X coordinates of random centroids\n",
    "C_x = [3,4]\n",
    "# Y coordinates of random centroids\n",
    "C_y = [2,8]\n",
    "C = np.array(list(zip(C_x, C_y)), dtype=np.float32)\n",
    "# Plotting along with the Centroids\n",
    "plt.scatter(f1, f2, c='#050505')\n",
    "plt.scatter(C_x, C_y, marker='*', s=200, c='g')\n",
    "\n",
    "clusters,count = kmeans(X, C=C, k=2, metric=distMetric['manhattan'])\n",
    "\n",
    "colors = ['r', 'g', 'b', 'y', 'c', 'm']\n",
    "fig, ax = plt.subplots()\n",
    "for i in range(k):\n",
    "        points = np.array([X[j] for j in range(len(X)) if clusters[j] == i])\n",
    "#         print(points)\n",
    "        ax.scatter(points[:, 0], points[:, 1], c=colors[i])\n",
    "ax.scatter(C[:, 0], C[:, 1], marker='*', s=200, c='#050505')"
   ]
  },
  {
   "cell_type": "markdown",
   "metadata": {},
   "source": [
    "## Iris datasets"
   ]
  },
  {
   "cell_type": "code",
   "execution_count": 13,
   "metadata": {},
   "outputs": [],
   "source": [
    "# Reading the data files and assigning a name into each column\n",
    "df = pd.read_table(\"iris.data\", sep=\",\", header=None, names=['sepalLength', 'sepalWidth', 'petalLength', 'petalWidth', 'class'])"
   ]
  },
  {
   "cell_type": "code",
   "execution_count": 14,
   "metadata": {},
   "outputs": [
    {
     "data": {
      "text/html": [
       "<div>\n",
       "<style scoped>\n",
       "    .dataframe tbody tr th:only-of-type {\n",
       "        vertical-align: middle;\n",
       "    }\n",
       "\n",
       "    .dataframe tbody tr th {\n",
       "        vertical-align: top;\n",
       "    }\n",
       "\n",
       "    .dataframe thead th {\n",
       "        text-align: right;\n",
       "    }\n",
       "</style>\n",
       "<table border=\"1\" class=\"dataframe\">\n",
       "  <thead>\n",
       "    <tr style=\"text-align: right;\">\n",
       "      <th></th>\n",
       "      <th>sepalLength</th>\n",
       "      <th>sepalWidth</th>\n",
       "      <th>petalLength</th>\n",
       "      <th>petalWidth</th>\n",
       "      <th>class</th>\n",
       "    </tr>\n",
       "  </thead>\n",
       "  <tbody>\n",
       "    <tr>\n",
       "      <th>0</th>\n",
       "      <td>5.1</td>\n",
       "      <td>3.5</td>\n",
       "      <td>1.4</td>\n",
       "      <td>0.2</td>\n",
       "      <td>Iris-setosa</td>\n",
       "    </tr>\n",
       "    <tr>\n",
       "      <th>1</th>\n",
       "      <td>4.9</td>\n",
       "      <td>3.0</td>\n",
       "      <td>1.4</td>\n",
       "      <td>0.2</td>\n",
       "      <td>Iris-setosa</td>\n",
       "    </tr>\n",
       "    <tr>\n",
       "      <th>2</th>\n",
       "      <td>4.7</td>\n",
       "      <td>3.2</td>\n",
       "      <td>1.3</td>\n",
       "      <td>0.2</td>\n",
       "      <td>Iris-setosa</td>\n",
       "    </tr>\n",
       "    <tr>\n",
       "      <th>3</th>\n",
       "      <td>4.6</td>\n",
       "      <td>3.1</td>\n",
       "      <td>1.5</td>\n",
       "      <td>0.2</td>\n",
       "      <td>Iris-setosa</td>\n",
       "    </tr>\n",
       "    <tr>\n",
       "      <th>4</th>\n",
       "      <td>5.0</td>\n",
       "      <td>3.6</td>\n",
       "      <td>1.4</td>\n",
       "      <td>0.2</td>\n",
       "      <td>Iris-setosa</td>\n",
       "    </tr>\n",
       "  </tbody>\n",
       "</table>\n",
       "</div>"
      ],
      "text/plain": [
       "   sepalLength  sepalWidth  petalLength  petalWidth        class\n",
       "0          5.1         3.5          1.4         0.2  Iris-setosa\n",
       "1          4.9         3.0          1.4         0.2  Iris-setosa\n",
       "2          4.7         3.2          1.3         0.2  Iris-setosa\n",
       "3          4.6         3.1          1.5         0.2  Iris-setosa\n",
       "4          5.0         3.6          1.4         0.2  Iris-setosa"
      ]
     },
     "execution_count": 14,
     "metadata": {},
     "output_type": "execute_result"
    }
   ],
   "source": [
    "df.head()"
   ]
  },
  {
   "cell_type": "code",
   "execution_count": 15,
   "metadata": {},
   "outputs": [
    {
     "data": {
      "text/html": [
       "<div>\n",
       "<style scoped>\n",
       "    .dataframe tbody tr th:only-of-type {\n",
       "        vertical-align: middle;\n",
       "    }\n",
       "\n",
       "    .dataframe tbody tr th {\n",
       "        vertical-align: top;\n",
       "    }\n",
       "\n",
       "    .dataframe thead th {\n",
       "        text-align: right;\n",
       "    }\n",
       "</style>\n",
       "<table border=\"1\" class=\"dataframe\">\n",
       "  <thead>\n",
       "    <tr style=\"text-align: right;\">\n",
       "      <th></th>\n",
       "      <th>sepalLength</th>\n",
       "      <th>sepalWidth</th>\n",
       "      <th>petalLength</th>\n",
       "      <th>petalWidth</th>\n",
       "      <th>class</th>\n",
       "    </tr>\n",
       "  </thead>\n",
       "  <tbody>\n",
       "    <tr>\n",
       "      <th>0</th>\n",
       "      <td>5.1</td>\n",
       "      <td>3.5</td>\n",
       "      <td>1.4</td>\n",
       "      <td>0.2</td>\n",
       "      <td>0</td>\n",
       "    </tr>\n",
       "    <tr>\n",
       "      <th>1</th>\n",
       "      <td>4.9</td>\n",
       "      <td>3.0</td>\n",
       "      <td>1.4</td>\n",
       "      <td>0.2</td>\n",
       "      <td>0</td>\n",
       "    </tr>\n",
       "    <tr>\n",
       "      <th>2</th>\n",
       "      <td>4.7</td>\n",
       "      <td>3.2</td>\n",
       "      <td>1.3</td>\n",
       "      <td>0.2</td>\n",
       "      <td>0</td>\n",
       "    </tr>\n",
       "    <tr>\n",
       "      <th>3</th>\n",
       "      <td>4.6</td>\n",
       "      <td>3.1</td>\n",
       "      <td>1.5</td>\n",
       "      <td>0.2</td>\n",
       "      <td>0</td>\n",
       "    </tr>\n",
       "    <tr>\n",
       "      <th>4</th>\n",
       "      <td>5.0</td>\n",
       "      <td>3.6</td>\n",
       "      <td>1.4</td>\n",
       "      <td>0.2</td>\n",
       "      <td>0</td>\n",
       "    </tr>\n",
       "  </tbody>\n",
       "</table>\n",
       "</div>"
      ],
      "text/plain": [
       "   sepalLength  sepalWidth  petalLength  petalWidth  class\n",
       "0          5.1         3.5          1.4         0.2      0\n",
       "1          4.9         3.0          1.4         0.2      0\n",
       "2          4.7         3.2          1.3         0.2      0\n",
       "3          4.6         3.1          1.5         0.2      0\n",
       "4          5.0         3.6          1.4         0.2      0"
      ]
     },
     "execution_count": 15,
     "metadata": {},
     "output_type": "execute_result"
    }
   ],
   "source": [
    "# Converting the predicted label \"class\" to numerical values\n",
    "df['class'] = pd.Categorical(df['class'])\n",
    "df['class'] = df['class'].cat.codes\n",
    "df.head()"
   ]
  },
  {
   "cell_type": "code",
   "execution_count": 16,
   "metadata": {},
   "outputs": [],
   "source": [
    "# Getting the values and plotting it\n",
    "# f1 = data['winsInSeason2016'].values\n",
    "# f2 = data['winsInSeason2017'].values\n",
    "X = df[df.columns[:-1]].values\n",
    "# plt.scatter(X, c='black')\n",
    "# X"
   ]
  },
  {
   "cell_type": "code",
   "execution_count": 17,
   "metadata": {
    "scrolled": true
   },
   "outputs": [
    {
     "name": "stdout",
     "output_type": "stream",
     "text": [
      "Iteration: 1\n",
      "Current SSE: 133.26\n",
      "Previous SSE: 0\n",
      "Iteration: 2\n",
      "Current SSE: 79.13199166666668\n",
      "Previous SSE: 133.26\n",
      "Iteration: 3\n",
      "Current SSE: 78.940841426146\n",
      "Previous SSE: 79.13199166666668\n",
      "4\n"
     ]
    }
   ],
   "source": [
    "clusters, count = kmeans(X, C=None, k=3, metric=distMetric['euclidean'], max_iter= maxIT)\n",
    "print(count)"
   ]
  },
  {
   "cell_type": "code",
   "execution_count": 18,
   "metadata": {},
   "outputs": [],
   "source": [
    "def predict(clusters, y, k=3):\n",
    "    indexes = []\n",
    "    for i in range(k):\n",
    "        indexes.append(np.where(clusters == i))\n",
    "    for cluster in indexes:\n",
    "        mode = int(stats.mode(y[cluster])[0])\n",
    "        clusters[cluster] = mode\n",
    "        \n",
    "    return clusters"
   ]
  },
  {
   "cell_type": "code",
   "execution_count": 19,
   "metadata": {},
   "outputs": [
    {
     "data": {
      "text/plain": [
       "0.89333333333333331"
      ]
     },
     "execution_count": 19,
     "metadata": {},
     "output_type": "execute_result"
    }
   ],
   "source": [
    "from sklearn import metrics\n",
    "pred_val = predict(clusters, df['class'].values)\n",
    "metrics.accuracy_score(df['class'].values, pred_val)"
   ]
  },
  {
   "cell_type": "code",
   "execution_count": 20,
   "metadata": {
    "scrolled": true
   },
   "outputs": [
    {
     "data": {
      "text/plain": [
       "<matplotlib.collections.PathCollection at 0x2207b1836a0>"
      ]
     },
     "execution_count": 20,
     "metadata": {},
     "output_type": "execute_result"
    },
    {
     "data": {
      "image/png": "[encoded data removed]",
      "text/plain": [
       "<matplotlib.figure.Figure at 0x2207ad1d828>"
      ]
     },
     "metadata": {},
     "output_type": "display_data"
    }
   ],
   "source": [
    "plt.scatter(X[:, 0], X[:, 1], c='black')\n",
    "# plt.scatter(X[:, 1], X[:, 2], c='black')"
   ]
  },
  {
   "cell_type": "code",
   "execution_count": 21,
   "metadata": {
    "scrolled": true
   },
   "outputs": [
    {
     "data": {
      "image/png": "[encoded data removed]",
      "text/plain": [
       "<matplotlib.figure.Figure at 0x2207b0436a0>"
      ]
     },
     "metadata": {},
     "output_type": "display_data"
    }
   ],
   "source": [
    "colors = ['r', 'g', 'b', 'y', 'c', 'm']\n",
    "fig, ax = plt.subplots()\n",
    "for i in range(3):\n",
    "        points = np.array([X[j] for j in range(len(X)) if clusters[j] == i])\n",
    "        ax.scatter(points[:, 0], points[:, 1], c=colors[i])\n",
    "#         ax.scatter(points[:, 1], points[:, 2], c=colors[i])\n",
    "# ax.scatter(C, marker='*', s=200, c='#050505')\n",
    "# print(len(points))"
   ]
  },
  {
   "cell_type": "code",
   "execution_count": 22,
   "metadata": {
    "scrolled": true
   },
   "outputs": [
    {
     "name": "stdout",
     "output_type": "stream",
     "text": [
      "Iteration: 1\n",
      "Current SSE: 134.84\n",
      "Previous SSE: 0\n",
      "Iteration: 2\n",
      "Current SSE: 80.52825766992748\n",
      "Previous SSE: 134.84\n",
      "Iteration: 3\n",
      "Current SSE: 80.15236575181797\n",
      "Previous SSE: 80.52825766992748\n",
      "Iteration: 4\n",
      "Current SSE: 79.69157708333331\n",
      "Previous SSE: 80.15236575181797\n",
      "Iteration: 5\n",
      "Current SSE: 79.23624424524454\n",
      "Previous SSE: 79.69157708333331\n",
      "Iteration: 6\n",
      "Current SSE: 79.18674974533107\n",
      "Previous SSE: 79.23624424524454\n",
      "7\n"
     ]
    }
   ],
   "source": [
    "clusters,count = kmeans(X, C=None, k=3, metric=distMetric['jaccard'], max_iter= maxIT)\n",
    "print(count)"
   ]
  },
  {
   "cell_type": "code",
   "execution_count": 24,
   "metadata": {},
   "outputs": [
    {
     "name": "stdout",
     "output_type": "stream",
     "text": [
      "0.97\n"
     ]
    }
   ],
   "source": [
    "pred_val = predict(clusters, df['class'].values)\n",
    "accurcy = metrics.accuracy_score(df['class'].values, clusters)\n",
    "print(accuracy)"
   ]
  },
  {
   "cell_type": "code",
   "execution_count": 25,
   "metadata": {},
   "outputs": [
    {
     "data": {
      "image/png": "[encoded data removed]",
      "text/plain": [
       "<matplotlib.figure.Figure at 0x2207af975c0>"
      ]
     },
     "metadata": {},
     "output_type": "display_data"
    }
   ],
   "source": [
    "colors = ['r', 'g', 'b', 'y', 'c', 'm']\n",
    "fig, ax = plt.subplots()\n",
    "for i in range(3):\n",
    "        points = np.array([X[j] for j in range(len(X)) if clusters[j] == i])\n",
    "        ax.scatter(points[:, 0], points[:, 1], c=colors[i])\n",
    "#         ax.scatter(points[:, 1], points[:, 2], c=colors[i])\n",
    "# ax.scatter(C, marker='*', s=200, c='#050505')\n",
    "# print(len(points))"
   ]
  },
  {
   "cell_type": "code",
   "execution_count": null,
   "metadata": {},
   "outputs": [],
   "source": []
  }
 ],
 "metadata": {
  "kernelspec": {
   "display_name": "Python 3",
   "language": "python",
   "name": "python3"
  },
  "language_info": {
   "codemirror_mode": {
    "name": "ipython",
    "version": 3
   },
   "file_extension": ".py",
   "mimetype": "text/x-python",
   "name": "python",
   "nbconvert_exporter": "python",
   "pygments_lexer": "ipython3",
   "version": "3.6.3"
  }
 },
 "nbformat": 4,
 "nbformat_minor": 2
}
